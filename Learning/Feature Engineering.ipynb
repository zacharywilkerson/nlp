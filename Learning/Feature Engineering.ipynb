{
 "cells": [
  {
   "cell_type": "markdown",
   "id": "b02ed578",
   "metadata": {},
   "source": [
    "# Feature Engineering\n",
    "___\n",
    "## Notes\n",
    "In this notebook, we will discuss the features needed for our machine learning model. \n",
    "\n",
    "Specifically, we'll be talking about the following:\n",
    "> [Overview](#Overview:-Feature-Engineering)\n",
    ">\n",
    "> [Feature Creation](#Feature-Creation)\n",
    ">\n",
    "> [Feature Evaluation](#Feature-Evaluation)\n",
    ">\n",
    "> [Feature Transformations](#Feature-Transformations)\n",
    "\n",
    "We finish the notebook off with a [review](#Review) of everything discussed. "
   ]
  },
  {
   "cell_type": "markdown",
   "id": "a66280aa",
   "metadata": {},
   "source": [
    "___"
   ]
  },
  {
   "cell_type": "markdown",
   "id": "43a5ff14",
   "metadata": {},
   "source": [
    "> ### Overview: Feature Engineering\n",
    "> ___\n",
    "> **Feature Engineering** refers to the process of creating new features or transforming old featues to get the most out of our data.\n",
    "> \n",
    "> Last section, we looked at creating a vectorization that will be used as one feature for our model. However, we know that some other features may also prove to be quite useful, such as:\n",
    "> - Length of the text\n",
    "> - Percentage of characters that are punctuation\n",
    "> - Percentage of characters that are capitalized\n",
    ">\n",
    "> We can also perform **transformations** on current data to create new features, such as:\n",
    "> - Power transformations (square, square root, log, etc.)\n",
    "> - Data standardization\n",
    ">\n",
    "> Of course, we need to be careful not to apply transformations on features that don't need to be transformed in the first place. We also need to make sure that the transformed feature is more informative than the untransformed feature. \n",
    "> \n",
    "> Let's jump in and see all of these concepts in action."
   ]
  },
  {
   "cell_type": "markdown",
   "id": "90a3c03b",
   "metadata": {},
   "source": [
    "___"
   ]
  },
  {
   "cell_type": "markdown",
   "id": "8ea73e46",
   "metadata": {},
   "source": [
    "## Feature Creation"
   ]
  },
  {
   "cell_type": "markdown",
   "id": "cf5de810",
   "metadata": {},
   "source": [
    "First, we'll read in our data as usual. "
   ]
  },
  {
   "cell_type": "code",
   "execution_count": 1,
   "id": "daf2f6e8",
   "metadata": {},
   "outputs": [],
   "source": [
    "import pandas as pd\n",
    "\n",
    "data = pd.read_csv('SMSSpamCollection.tsv', sep='\\t', header=None)\n",
    "data.columns = ['label','text']"
   ]
  },
  {
   "cell_type": "markdown",
   "id": "4dc61be3",
   "metadata": {},
   "source": [
    "Next, we will create a feature for the length of each sample (text message) in the data. \n",
    "\n",
    "We have a hypothesis that spam messages are longer than non-spam messages. "
   ]
  },
  {
   "cell_type": "code",
   "execution_count": 3,
   "id": "922a5d13",
   "metadata": {},
   "outputs": [
    {
     "data": {
      "text/html": [
       "<div>\n",
       "<style scoped>\n",
       "    .dataframe tbody tr th:only-of-type {\n",
       "        vertical-align: middle;\n",
       "    }\n",
       "\n",
       "    .dataframe tbody tr th {\n",
       "        vertical-align: top;\n",
       "    }\n",
       "\n",
       "    .dataframe thead th {\n",
       "        text-align: right;\n",
       "    }\n",
       "</style>\n",
       "<table border=\"1\" class=\"dataframe\">\n",
       "  <thead>\n",
       "    <tr style=\"text-align: right;\">\n",
       "      <th></th>\n",
       "      <th>label</th>\n",
       "      <th>text</th>\n",
       "      <th>text_length</th>\n",
       "    </tr>\n",
       "  </thead>\n",
       "  <tbody>\n",
       "    <tr>\n",
       "      <th>0</th>\n",
       "      <td>ham</td>\n",
       "      <td>I've been searching for the right words to tha...</td>\n",
       "      <td>160</td>\n",
       "    </tr>\n",
       "    <tr>\n",
       "      <th>1</th>\n",
       "      <td>spam</td>\n",
       "      <td>Free entry in 2 a wkly comp to win FA Cup fina...</td>\n",
       "      <td>128</td>\n",
       "    </tr>\n",
       "    <tr>\n",
       "      <th>2</th>\n",
       "      <td>ham</td>\n",
       "      <td>Nah I don't think he goes to usf, he lives aro...</td>\n",
       "      <td>49</td>\n",
       "    </tr>\n",
       "    <tr>\n",
       "      <th>3</th>\n",
       "      <td>ham</td>\n",
       "      <td>Even my brother is not like to speak with me. ...</td>\n",
       "      <td>62</td>\n",
       "    </tr>\n",
       "    <tr>\n",
       "      <th>4</th>\n",
       "      <td>ham</td>\n",
       "      <td>I HAVE A DATE ON SUNDAY WITH WILL!!</td>\n",
       "      <td>28</td>\n",
       "    </tr>\n",
       "    <tr>\n",
       "      <th>5</th>\n",
       "      <td>ham</td>\n",
       "      <td>As per your request 'Melle Melle (Oru Minnamin...</td>\n",
       "      <td>135</td>\n",
       "    </tr>\n",
       "    <tr>\n",
       "      <th>6</th>\n",
       "      <td>spam</td>\n",
       "      <td>WINNER!! As a valued network customer you have...</td>\n",
       "      <td>132</td>\n",
       "    </tr>\n",
       "    <tr>\n",
       "      <th>7</th>\n",
       "      <td>spam</td>\n",
       "      <td>Had your mobile 11 months or more? U R entitle...</td>\n",
       "      <td>126</td>\n",
       "    </tr>\n",
       "    <tr>\n",
       "      <th>8</th>\n",
       "      <td>ham</td>\n",
       "      <td>I'm gonna be home soon and i don't want to tal...</td>\n",
       "      <td>89</td>\n",
       "    </tr>\n",
       "    <tr>\n",
       "      <th>9</th>\n",
       "      <td>spam</td>\n",
       "      <td>SIX chances to win CASH! From 100 to 20,000 po...</td>\n",
       "      <td>111</td>\n",
       "    </tr>\n",
       "  </tbody>\n",
       "</table>\n",
       "</div>"
      ],
      "text/plain": [
       "  label                                               text  text_length\n",
       "0   ham  I've been searching for the right words to tha...          160\n",
       "1  spam  Free entry in 2 a wkly comp to win FA Cup fina...          128\n",
       "2   ham  Nah I don't think he goes to usf, he lives aro...           49\n",
       "3   ham  Even my brother is not like to speak with me. ...           62\n",
       "4   ham                I HAVE A DATE ON SUNDAY WITH WILL!!           28\n",
       "5   ham  As per your request 'Melle Melle (Oru Minnamin...          135\n",
       "6  spam  WINNER!! As a valued network customer you have...          132\n",
       "7  spam  Had your mobile 11 months or more? U R entitle...          126\n",
       "8   ham  I'm gonna be home soon and i don't want to tal...           89\n",
       "9  spam  SIX chances to win CASH! From 100 to 20,000 po...          111"
      ]
     },
     "execution_count": 3,
     "metadata": {},
     "output_type": "execute_result"
    }
   ],
   "source": [
    "data['text_length'] = data['text'].apply(lambda x: len(x) - x.count(\" \"))\n",
    "data.head(10)"
   ]
  },
  {
   "cell_type": "markdown",
   "id": "3e321b4b",
   "metadata": {},
   "source": [
    "Now, we will create a feature for the percentage of punctuation in each sample (text message) in our data.\n",
    "\n",
    "We have a hypothesis that spam messages have a larger number of punctuations than non-spam messages. "
   ]
  },
  {
   "cell_type": "code",
   "execution_count": 4,
   "id": "b6576f83",
   "metadata": {},
   "outputs": [
    {
     "data": {
      "text/html": [
       "<div>\n",
       "<style scoped>\n",
       "    .dataframe tbody tr th:only-of-type {\n",
       "        vertical-align: middle;\n",
       "    }\n",
       "\n",
       "    .dataframe tbody tr th {\n",
       "        vertical-align: top;\n",
       "    }\n",
       "\n",
       "    .dataframe thead th {\n",
       "        text-align: right;\n",
       "    }\n",
       "</style>\n",
       "<table border=\"1\" class=\"dataframe\">\n",
       "  <thead>\n",
       "    <tr style=\"text-align: right;\">\n",
       "      <th></th>\n",
       "      <th>label</th>\n",
       "      <th>text</th>\n",
       "      <th>text_length</th>\n",
       "      <th>punctuation</th>\n",
       "    </tr>\n",
       "  </thead>\n",
       "  <tbody>\n",
       "    <tr>\n",
       "      <th>0</th>\n",
       "      <td>ham</td>\n",
       "      <td>I've been searching for the right words to tha...</td>\n",
       "      <td>160</td>\n",
       "      <td>2.5</td>\n",
       "    </tr>\n",
       "    <tr>\n",
       "      <th>1</th>\n",
       "      <td>spam</td>\n",
       "      <td>Free entry in 2 a wkly comp to win FA Cup fina...</td>\n",
       "      <td>128</td>\n",
       "      <td>4.7</td>\n",
       "    </tr>\n",
       "    <tr>\n",
       "      <th>2</th>\n",
       "      <td>ham</td>\n",
       "      <td>Nah I don't think he goes to usf, he lives aro...</td>\n",
       "      <td>49</td>\n",
       "      <td>4.1</td>\n",
       "    </tr>\n",
       "    <tr>\n",
       "      <th>3</th>\n",
       "      <td>ham</td>\n",
       "      <td>Even my brother is not like to speak with me. ...</td>\n",
       "      <td>62</td>\n",
       "      <td>3.2</td>\n",
       "    </tr>\n",
       "    <tr>\n",
       "      <th>4</th>\n",
       "      <td>ham</td>\n",
       "      <td>I HAVE A DATE ON SUNDAY WITH WILL!!</td>\n",
       "      <td>28</td>\n",
       "      <td>7.1</td>\n",
       "    </tr>\n",
       "    <tr>\n",
       "      <th>5</th>\n",
       "      <td>ham</td>\n",
       "      <td>As per your request 'Melle Melle (Oru Minnamin...</td>\n",
       "      <td>135</td>\n",
       "      <td>4.4</td>\n",
       "    </tr>\n",
       "    <tr>\n",
       "      <th>6</th>\n",
       "      <td>spam</td>\n",
       "      <td>WINNER!! As a valued network customer you have...</td>\n",
       "      <td>132</td>\n",
       "      <td>4.5</td>\n",
       "    </tr>\n",
       "    <tr>\n",
       "      <th>7</th>\n",
       "      <td>spam</td>\n",
       "      <td>Had your mobile 11 months or more? U R entitle...</td>\n",
       "      <td>126</td>\n",
       "      <td>1.6</td>\n",
       "    </tr>\n",
       "    <tr>\n",
       "      <th>8</th>\n",
       "      <td>ham</td>\n",
       "      <td>I'm gonna be home soon and i don't want to tal...</td>\n",
       "      <td>89</td>\n",
       "      <td>6.7</td>\n",
       "    </tr>\n",
       "    <tr>\n",
       "      <th>9</th>\n",
       "      <td>spam</td>\n",
       "      <td>SIX chances to win CASH! From 100 to 20,000 po...</td>\n",
       "      <td>111</td>\n",
       "      <td>7.2</td>\n",
       "    </tr>\n",
       "  </tbody>\n",
       "</table>\n",
       "</div>"
      ],
      "text/plain": [
       "  label                                               text  text_length  \\\n",
       "0   ham  I've been searching for the right words to tha...          160   \n",
       "1  spam  Free entry in 2 a wkly comp to win FA Cup fina...          128   \n",
       "2   ham  Nah I don't think he goes to usf, he lives aro...           49   \n",
       "3   ham  Even my brother is not like to speak with me. ...           62   \n",
       "4   ham                I HAVE A DATE ON SUNDAY WITH WILL!!           28   \n",
       "5   ham  As per your request 'Melle Melle (Oru Minnamin...          135   \n",
       "6  spam  WINNER!! As a valued network customer you have...          132   \n",
       "7  spam  Had your mobile 11 months or more? U R entitle...          126   \n",
       "8   ham  I'm gonna be home soon and i don't want to tal...           89   \n",
       "9  spam  SIX chances to win CASH! From 100 to 20,000 po...          111   \n",
       "\n",
       "   punctuation  \n",
       "0          2.5  \n",
       "1          4.7  \n",
       "2          4.1  \n",
       "3          3.2  \n",
       "4          7.1  \n",
       "5          4.4  \n",
       "6          4.5  \n",
       "7          1.6  \n",
       "8          6.7  \n",
       "9          7.2  "
      ]
     },
     "execution_count": 4,
     "metadata": {},
     "output_type": "execute_result"
    }
   ],
   "source": [
    "import string\n",
    "\n",
    "def punc_counter(text):\n",
    "    count = sum([1 for char in text if char in string.punctuation])\n",
    "    return round(count/(len(text) - text.count(\" \")),3)*100\n",
    "\n",
    "data['punctuation'] = data['text'].apply(lambda x: punc_counter(x))\n",
    "data.head(10)"
   ]
  },
  {
   "cell_type": "markdown",
   "id": "d7d27df6",
   "metadata": {},
   "source": [
    "___"
   ]
  },
  {
   "cell_type": "markdown",
   "id": "4cfa08d6",
   "metadata": {},
   "source": [
    "## Feature Evaluation"
   ]
  },
  {
   "cell_type": "markdown",
   "id": "d9e42002",
   "metadata": {},
   "source": [
    "Now that we have some features, we want to evaluate whether or not they will be useful for our model. "
   ]
  },
  {
   "cell_type": "markdown",
   "id": "b0dfc38f",
   "metadata": {},
   "source": [
    "We start by looking at our length feature. Recall our hypothesis: spam messages are longer than non-spam messages. "
   ]
  },
  {
   "cell_type": "code",
   "execution_count": 5,
   "id": "0b2ec6a9",
   "metadata": {},
   "outputs": [],
   "source": [
    "import matplotlib.pyplot as plt\n",
    "import numpy as np\n",
    "%matplotlib inline"
   ]
  },
  {
   "cell_type": "code",
   "execution_count": 8,
   "id": "3efcb8a9",
   "metadata": {},
   "outputs": [
    {
     "data": {
      "image/png": "[encoded data removed]",
      "text/plain": [
       "<Figure size 432x288 with 1 Axes>"
      ]
     },
     "metadata": {
      "needs_background": "light"
     },
     "output_type": "display_data"
    }
   ],
   "source": [
    "bins = np.linspace(0,200,40) # 40 evenly spaced numbers between 0 and 200, which represent bin cutoffs\n",
    "\n",
    "plt.hist(data[data['label']=='spam']['text_length'], bins, alpha=0.5, density=True, label='Spam')\n",
    "plt.hist(data[data['label']=='ham']['text_length'], bins, alpha=0.5, density=True, label='Ham')\n",
    "plt.legend(loc='upper left');"
   ]
  },
  {
   "cell_type": "markdown",
   "id": "018a2aed",
   "metadata": {},
   "source": [
    "*It looks like our hypothesis is correct!* Spam does indeed seem to have longer messages than non-spam messages."
   ]
  },
  {
   "cell_type": "markdown",
   "id": "ad850694",
   "metadata": {},
   "source": [
    "Now we check out our punctuation feature. Recall our hypothesis: spam messages have a larger number of punctuations than non-spam messages."
   ]
  },
  {
   "cell_type": "code",
   "execution_count": 9,
   "id": "dea8e581",
   "metadata": {},
   "outputs": [
    {
     "data": {
      "image/png": "[encoded data removed]",
      "text/plain": [
       "<Figure size 432x288 with 1 Axes>"
      ]
     },
     "metadata": {
      "needs_background": "light"
     },
     "output_type": "display_data"
    }
   ],
   "source": [
    "bins = np.linspace(0,50,40) # 40 evenly spaced numbers between 0 and 50, which represent bin cutoffs\n",
    "\n",
    "plt.hist(data[data['label']=='spam']['punctuation'], bins, alpha=0.5, density=True, label='Spam')\n",
    "plt.hist(data[data['label']=='ham']['punctuation'], bins, alpha=0.5, density=True, label='Ham')\n",
    "plt.legend(loc='upper left');"
   ]
  },
  {
   "cell_type": "markdown",
   "id": "45d785c0",
   "metadata": {},
   "source": [
    "*It looks like our hypothesis is incorrect!* We don't see an extreme difference between spam and non-spam messages in terms of punctuation.\n",
    "\n",
    "Now, this doesn't mean that this feature is necessarily a bad feature. It may still prove useful, but we expect that our length feature will be much more useful for the model.  "
   ]
  },
  {
   "cell_type": "markdown",
   "id": "e9309ea0",
   "metadata": {},
   "source": [
    "___"
   ]
  },
  {
   "cell_type": "markdown",
   "id": "fb4c37f5",
   "metadata": {},
   "source": [
    "## Feature Transformations"
   ]
  },
  {
   "cell_type": "markdown",
   "id": "3b3481f1",
   "metadata": {},
   "source": [
    "In the last section, we compared two distributions (spam and ham) together for each feature. \n",
    "\n",
    "This was helpful to determine if the feature would be useful to separate the classes, but it didn't give us a great sense of the overall distribution of the feature (and therefore if the overall distrbution was skewed, had large outliers, or anything like that which might indicate a transformation is needed).\n",
    "\n",
    "Below, we'll take a closer look at both features distributions. "
   ]
  },
  {
   "cell_type": "code",
   "execution_count": 13,
   "id": "1474f200",
   "metadata": {},
   "outputs": [
    {
     "data": {
      "image/png": "[encoded data removed]",
      "text/plain": [
       "<Figure size 432x288 with 1 Axes>"
      ]
     },
     "metadata": {
      "needs_background": "light"
     },
     "output_type": "display_data"
    }
   ],
   "source": [
    "bins = np.linspace(0,200,40)\n",
    "\n",
    "plt.hist(data['text_length'], bins)\n",
    "plt.title('Length Distribution');"
   ]
  },
  {
   "cell_type": "markdown",
   "id": "03741756",
   "metadata": {},
   "source": [
    "Note that this distribution doesn't have any huge outliers and isn't skewed heavily in one direction, so we aren't worried about making any transformations to this feature. "
   ]
  },
  {
   "cell_type": "code",
   "execution_count": 16,
   "id": "d1418039",
   "metadata": {},
   "outputs": [
    {
     "data": {
      "image/png": "[encoded data removed]",
      "text/plain": [
       "<Figure size 432x288 with 1 Axes>"
      ]
     },
     "metadata": {
      "needs_background": "light"
     },
     "output_type": "display_data"
    }
   ],
   "source": [
    "bins = np.linspace(0,50,40)\n",
    "\n",
    "plt.hist(data['punctuation'], bins)\n",
    "plt.title('Punctuation Distribution');"
   ]
  },
  {
   "cell_type": "markdown",
   "id": "110399b2",
   "metadata": {},
   "source": [
    "Note that this distribution is skewed heavily to one side and its tail reaches far out to outliers, so we should consider making a transformation on this feature."
   ]
  },
  {
   "cell_type": "markdown",
   "id": "2e63db7e",
   "metadata": {},
   "source": [
    "When you transform a data set, you perform the same mathematical operation on each data point in\n",
    "the set. \n",
    "\n",
    "> Today, we're going to be using a **Box-Cox power transformation** defined by $y^{\\lambda}$, where: \n",
    "> - $y$ represents the data\n",
    "> - $\\lambda$ represents the \"power\" to which each data value is raised \n",
    ">\n",
    "> Some common values of $\\lambda$ are shown below, along with the corresponding transformation.\n",
    ">\n",
    "> | $\\lambda$ | Transformation |\n",
    "> | :-: | :-: |\n",
    "> | -2 | $y^{-2}$ |\n",
    "> | -1 | $y^{-1}$ |\n",
    "> | -1/2 | $y^{-\\frac{1}{2}}$ |\n",
    "> | 0 | $\\log(y)$ |\n",
    "> | 1/2 | $y^{\\frac{1}{2}}$ |\n",
    "> | 1 | $y^{1}$ |\n",
    "> | 2 | $y^{2}$ |\n",
    ">\n",
    "> The process for using such a transformation is simple:\n",
    "> 1. Determine the range of $\\lambda$s to test\n",
    "> 2. Apply each transformation to each value of the chosen feature\n",
    "> 3. Use some criteria (flexibility) to determine which transformation yielded the best distribution\n",
    ">\n",
    "> and that's it! "
   ]
  },
  {
   "cell_type": "markdown",
   "id": "15dba213",
   "metadata": {},
   "source": [
    "Now that we've learned about the Box-Cox power transformation, let's apply it on our data. \n",
    "\n",
    "`Note:` We will use only positive values for $\\lambda$ in this problem due to the fact that our data contains zero values."
   ]
  },
  {
   "cell_type": "code",
   "execution_count": 28,
   "id": "0801360b",
   "metadata": {},
   "outputs": [
    {
     "data": {
      "image/png": "[encoded data removed]",
      "text/plain": [
       "<Figure size 432x288 with 1 Axes>"
      ]
     },
     "metadata": {
      "needs_background": "light"
     },
     "output_type": "display_data"
    },
    {
     "data": {
      "image/png": "[encoded data removed]",
      "text/plain": [
       "<Figure size 432x288 with 1 Axes>"
      ]
     },
     "metadata": {
      "needs_background": "light"
     },
     "output_type": "display_data"
    },
    {
     "data": {
      "image/png": "[encoded data removed]",
      "text/plain": [
       "<Figure size 432x288 with 1 Axes>"
      ]
     },
     "metadata": {
      "needs_background": "light"
     },
     "output_type": "display_data"
    },
    {
     "data": {
      "image/png": "[encoded data removed]",
      "text/plain": [
       "<Figure size 432x288 with 1 Axes>"
      ]
     },
     "metadata": {
      "needs_background": "light"
     },
     "output_type": "display_data"
    },
    {
     "data": {
      "image/png": "[encoded data removed]",
      "text/plain": [
       "<Figure size 432x288 with 1 Axes>"
      ]
     },
     "metadata": {
      "needs_background": "light"
     },
     "output_type": "display_data"
    }
   ],
   "source": [
    "for i in [1,2,3,4,5]:\n",
    "    plt.hist((data['punctuation'])**(1/i), bins=40)\n",
    "    plt.title('Transformation: 1/{}'.format(str(i)))\n",
    "    plt.show()"
   ]
  },
  {
   "cell_type": "markdown",
   "id": "e325ed72",
   "metadata": {},
   "source": [
    "Based on these graphs, we would likely want to choose a transformation that uses a $\\lambda$ equal to $4$ or $5$, as these distributions look the most like a normal distribution. \n",
    "\n",
    "`Note:` The stack of values that appear near zero corresponds to data with no punctuation, and any transformation on zero will keep it at zero. "
   ]
  },
  {
   "cell_type": "markdown",
   "id": "40a85d06",
   "metadata": {},
   "source": [
    "___"
   ]
  },
  {
   "cell_type": "markdown",
   "id": "8e2ca6db",
   "metadata": {},
   "source": [
    "## Review\n",
    "> \n",
    "> \n",
    "> \n",
    "> \n",
    "> \n",
    "> "
   ]
  },
  {
   "cell_type": "code",
   "execution_count": null,
   "id": "650cb7a5",
   "metadata": {},
   "outputs": [],
   "source": []
  }
 ],
 "metadata": {
  "kernelspec": {
   "display_name": "Python 3",
   "language": "python",
   "name": "python3"
  },
  "language_info": {
   "codemirror_mode": {
    "name": "ipython",
    "version": 3
   },
   "file_extension": ".py",
   "mimetype": "text/x-python",
   "name": "python",
   "nbconvert_exporter": "python",
   "pygments_lexer": "ipython3",
   "version": "3.8.5"
  }
 },
 "nbformat": 4,
 "nbformat_minor": 5
}
