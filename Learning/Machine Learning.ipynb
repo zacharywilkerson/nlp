{
 "cells": [
  {
   "cell_type": "markdown",
   "id": "b02ed578",
   "metadata": {},
   "source": [
    "# Machine Learning\n",
    "___\n",
    "## Notes\n",
    "In this notebook, we will discuss the features needed for our machine learning model. \n",
    "\n",
    "Specifically, we'll be talking about the following:\n",
    "> [Overview](#Overview:-Feature-Engineering)\n",
    ">\n",
    "> [Feature Creation](#Feature-Creation)\n",
    ">\n",
    "> [Feature Evaluation](#Feature-Evaluation)\n",
    ">\n",
    "> [Feature Transformations](#Feature-Transformations)\n",
    "\n",
    "We finish the notebook off with a [review](#Review) of everything discussed. "
   ]
  },
  {
   "cell_type": "markdown",
   "id": "b7f8d3d6",
   "metadata": {},
   "source": [
    "___"
   ]
  },
  {
   "cell_type": "markdown",
   "id": "43a5ff14",
   "metadata": {},
   "source": [
    "> ### Overview: Feature Engineering\n",
    "> ___\n",
    "> **Machine Learning** refers to algorithms that use data to make predictions. \n",
    ">\n",
    "> There are two types of machine learning: \n",
    "> - **Supervised Learning**: Inferring a function from labeled training data to make predictions on unseen data.\n",
    "> \n",
    "> - **Unsupervised Learning**: Deriving structure from data where we don't know the effect of the variables. \n",
    "> \n",
    "> Last section, we looked at creating a vectorization that will be used as one feature for our model. However, we know that some other features may also prove to be quite useful, such as:\n",
    "> - Length of the text\n",
    "> - Percentage of characters that are punctuation\n",
    "> - Percentage of characters that are capitalized\n",
    ">\n",
    "> We can also perform **transformations** on current data to create new features, such as:\n",
    "> - Power transformations (square, square root, log, etc.)\n",
    "> - Data standardization\n",
    ">\n",
    "> Of course, we need to be careful not to apply transformations on features that don't need to be transformed in the first place. We also need to make sure that the transformed feature is more informative than the untransformed feature. \n",
    "> \n",
    "> Let's jump in and see all of these concepts in action."
   ]
  },
  {
   "cell_type": "markdown",
   "id": "aa8756ba",
   "metadata": {},
   "source": [
    "___"
   ]
  },
  {
   "cell_type": "markdown",
   "id": "8ea73e46",
   "metadata": {},
   "source": [
    "## Feature Creation"
   ]
  },
  {
   "cell_type": "markdown",
   "id": "f1e5270f",
   "metadata": {},
   "source": [
    "First, we'll read in our data as usual. "
   ]
  },
  {
   "cell_type": "code",
   "execution_count": 1,
   "id": "daf2f6e8",
   "metadata": {},
   "outputs": [],
   "source": [
    "import pandas as pd\n",
    "\n",
    "data = pd.read_csv('SMSSpamCollection.tsv', sep='\\t', header=None)\n",
    "data.columns = ['label','text']"
   ]
  },
  {
   "cell_type": "code",
   "execution_count": null,
   "id": "c3427bcf",
   "metadata": {},
   "outputs": [],
   "source": []
  }
 ],
 "metadata": {
  "kernelspec": {
   "display_name": "Python 3",
   "language": "python",
   "name": "python3"
  },
  "language_info": {
   "codemirror_mode": {
    "name": "ipython",
    "version": 3
   },
   "file_extension": ".py",
   "mimetype": "text/x-python",
   "name": "python",
   "nbconvert_exporter": "python",
   "pygments_lexer": "ipython3",
   "version": "3.8.5"
  }
 },
 "nbformat": 4,
 "nbformat_minor": 5
}
